{
 "cells": [
  {
   "cell_type": "code",
   "execution_count": 1,
   "id": "initial_id",
   "metadata": {
    "collapsed": true,
    "ExecuteTime": {
     "end_time": "2023-12-11T10:30:15.969188983Z",
     "start_time": "2023-12-11T10:30:15.332199488Z"
    }
   },
   "outputs": [],
   "source": [
    "import numpy as np\n",
    "from sklearn.base import BaseEstimator, ClassifierMixin\n",
    "from sklearn.metrics import euclidean_distances"
   ]
  },
  {
   "cell_type": "markdown",
   "source": [
    "# Learning Vector Quantization\n",
    "\n",
    "The Learning Vector Quantization (LVQ) algorithm is a supervised learning algorithm that is similar to the k-Nearest Neighbors algorithm. It is a prototype-based algorithm, which means that it uses a set of prototypes to classify new samples. The prototypes are vectors that represent the different classes. The algorithm is trained by moving the prototypes towards the samples that belong to the same class and away from the samples that belong to other classes. The algorithm is trained in an iterative manner. In each iteration, a sample is randomly selected from the training set and the prototype that is closest to the sample is moved towards the sample if the sample belongs to the same class as the prototype. Otherwise, the prototype is moved away from the sample. The algorithm is trained for a fixed number of iterations. The prototypes are initialized by randomly selecting samples from the training set. The number of prototypes per class is a hyperparameter of the algorithm.\n",
    "\n",
    "The main rules of the algorithm are:\n",
    "1. If the sample belongs to the same class as the prototype, move the prototype towards the sample.\n",
    "2. If the sample belongs to a different class than the prototype, move the prototype away from the sample.\n",
    "3. The amount of movement is determined by the learning rate hyperparameter.\n",
    "4. The algorithm is trained for a fixed number of iterations.\n",
    "5. The prototypes are initialized by randomly selecting samples from the training set.\n",
    "6. The number of prototypes per class is a hyperparameter of the algorithm.\n",
    "7. The algorithm is trained in an iterative manner.\n",
    "8. In each iteration, a sample is randomly selected from the training set.\n",
    "9. The prototype that is closest to the sample is moved towards the sample if the sample belongs to the same class as the prototype.\n",
    "10. Otherwise, the prototype is moved away from the sample.\n",
    "11. The algorithm is trained for a fixed number of iterations.\n",
    "\n",
    "Update rule: \n",
    "$$\n",
    "\\begin{equation}\n",
    "\\begin{split}\n",
    "\\text{if } y = y_{i} \\text{ then } w_{i}^{new} = w_{i}^{old} + \\alpha (x - w_{i}^{old}) \\\\ \n",
    "\\text{if } y \\neq y_{i} \\text{ then } w_{i}^{new} = w_{i}^{old} - \\alpha (x - w_{i}^{old})\n",
    "\\end{split}\n",
    "\\end{equation}\n",
    "$$\n",
    "\n",
    "where $w_{i}$ is the $i$-th prototype, $x$ is the sample, $y$ is the label of the sample, and $\\alpha$ is the learning rate.\n"
   ],
   "metadata": {
    "collapsed": false
   },
   "id": "b961c07b1314ed1a"
  },
  {
   "cell_type": "code",
   "execution_count": 4,
   "outputs": [],
   "source": [
    "class LVQ(BaseEstimator, ClassifierMixin):\n",
    "    def __init__(self, prototypes_per_class: int = 1, learning_rate: float = 0.1, epochs: int = 100):\n",
    "        self.prototypes = None\n",
    "        self.classes_ = None\n",
    "        self.prototypes_per_class = prototypes_per_class\n",
    "        self.learning_rate = learning_rate\n",
    "        self.epochs = epochs\n",
    "        \n",
    "    def fit(self, X, y, return_stats: bool = True):\n",
    "        self.classes_ = np.unique(y)\n",
    "        self.prototypes = self.init_prototypes(X, y)\n",
    "        if return_stats:\n",
    "            stats = {\n",
    "                'loss': [],\n",
    "                'accuracy': []\n",
    "            }\n",
    "        for epoch in range(self.epochs):\n",
    "            avg_loss = 0.0\n",
    "            avg_accuracy = 0.0\n",
    "            for i in range(X.shape[0]):\n",
    "                x = X[i]\n",
    "                label = y[i]\n",
    "                winner_index = self.find_winner(x)\n",
    "                \n",
    "                winner_label = np.argmin(euclidean_distances([x], self.prototypes))\n",
    "                if label == winner_label:\n",
    "                    self.prototypes[winner_index] += self.learning_rate * (x - self.prototypes[winner_index])\n",
    "                else:\n",
    "                    self.prototypes[winner_index] -= self.learning_rate * (x - self.prototypes[winner_index])\n",
    "                avg_loss += euclidean_distances([x], [self.prototypes[winner_index]])[0][0]\n",
    "                avg_accuracy += int(label == winner_label)\n",
    "            avg_loss /= X.shape[0]\n",
    "            avg_accuracy /= X.shape[0]\n",
    "            if return_stats:\n",
    "                stats['loss'].append(avg_loss)\n",
    "                stats['accuracy'].append(avg_accuracy)\n",
    "        return self if not return_stats else (self, stats)\n",
    "    \n",
    "    def predict(self, X):\n",
    "        distances = euclidean_distances(X, self.prototypes)\n",
    "        return np.argmin(distances, axis=1)        \n",
    "                \n",
    "    def init_prototypes(self, X, y):\n",
    "        prototypes = []\n",
    "        for class_ in self.classes_:\n",
    "            class_indices = np.where(y == class_)[0]\n",
    "            class_samples = X[class_indices]\n",
    "            random_samples = np.random.choice(class_samples.shape[0], self.prototypes_per_class, replace=False)\n",
    "            prototypes.append(class_samples[random_samples])\n",
    "        return np.concatenate(prototypes)\n",
    "\n",
    "    def find_winner(self, x):\n",
    "        distances = euclidean_distances(x.reshape(1, -1), self.prototypes)\n",
    "        return np.argmin(distances)\n",
    "    "
   ],
   "metadata": {
    "collapsed": false,
    "ExecuteTime": {
     "end_time": "2023-12-11T10:38:09.546415495Z",
     "start_time": "2023-12-11T10:38:09.540667055Z"
    }
   },
   "id": "e60f6f5d1b7a1080"
  },
  {
   "cell_type": "markdown",
   "source": [
    "# Loading the Iris dataset "
   ],
   "metadata": {
    "collapsed": false
   },
   "id": "4f9e4bd9d3a46736"
  },
  {
   "cell_type": "code",
   "execution_count": 5,
   "outputs": [],
   "source": [
    "import matplotlib.pyplot as plt\n",
    "import pandas as pd\n",
    "from sklearn.preprocessing import LabelEncoder, StandardScaler\n",
    "from sklearn.model_selection import train_test_split"
   ],
   "metadata": {
    "collapsed": false,
    "ExecuteTime": {
     "end_time": "2023-12-11T10:38:12.807358160Z",
     "start_time": "2023-12-11T10:38:12.479723159Z"
    }
   },
   "id": "ad04760d0448ce5d"
  },
  {
   "cell_type": "code",
   "execution_count": 6,
   "outputs": [
    {
     "data": {
      "text/plain": "   Id  SepalLengthCm  SepalWidthCm  PetalLengthCm  PetalWidthCm      Species\n0   1            5.1           3.5            1.4           0.2  Iris-setosa\n1   2            4.9           3.0            1.4           0.2  Iris-setosa\n2   3            4.7           3.2            1.3           0.2  Iris-setosa\n3   4            4.6           3.1            1.5           0.2  Iris-setosa\n4   5            5.0           3.6            1.4           0.2  Iris-setosa",
      "text/html": "<div>\n<style scoped>\n    .dataframe tbody tr th:only-of-type {\n        vertical-align: middle;\n    }\n\n    .dataframe tbody tr th {\n        vertical-align: top;\n    }\n\n    .dataframe thead th {\n        text-align: right;\n    }\n</style>\n<table border=\"1\" class=\"dataframe\">\n  <thead>\n    <tr style=\"text-align: right;\">\n      <th></th>\n      <th>Id</th>\n      <th>SepalLengthCm</th>\n      <th>SepalWidthCm</th>\n      <th>PetalLengthCm</th>\n      <th>PetalWidthCm</th>\n      <th>Species</th>\n    </tr>\n  </thead>\n  <tbody>\n    <tr>\n      <th>0</th>\n      <td>1</td>\n      <td>5.1</td>\n      <td>3.5</td>\n      <td>1.4</td>\n      <td>0.2</td>\n      <td>Iris-setosa</td>\n    </tr>\n    <tr>\n      <th>1</th>\n      <td>2</td>\n      <td>4.9</td>\n      <td>3.0</td>\n      <td>1.4</td>\n      <td>0.2</td>\n      <td>Iris-setosa</td>\n    </tr>\n    <tr>\n      <th>2</th>\n      <td>3</td>\n      <td>4.7</td>\n      <td>3.2</td>\n      <td>1.3</td>\n      <td>0.2</td>\n      <td>Iris-setosa</td>\n    </tr>\n    <tr>\n      <th>3</th>\n      <td>4</td>\n      <td>4.6</td>\n      <td>3.1</td>\n      <td>1.5</td>\n      <td>0.2</td>\n      <td>Iris-setosa</td>\n    </tr>\n    <tr>\n      <th>4</th>\n      <td>5</td>\n      <td>5.0</td>\n      <td>3.6</td>\n      <td>1.4</td>\n      <td>0.2</td>\n      <td>Iris-setosa</td>\n    </tr>\n  </tbody>\n</table>\n</div>"
     },
     "execution_count": 6,
     "metadata": {},
     "output_type": "execute_result"
    }
   ],
   "source": [
    "df = pd.read_csv('../data/iris/Iris.csv')\n",
    "df.head()"
   ],
   "metadata": {
    "collapsed": false,
    "ExecuteTime": {
     "end_time": "2023-12-11T10:38:12.913219159Z",
     "start_time": "2023-12-11T10:38:12.866932867Z"
    }
   },
   "id": "b335a98475276c3e"
  },
  {
   "cell_type": "code",
   "execution_count": 7,
   "outputs": [],
   "source": [
    "scaler = StandardScaler()\n",
    "encoder = LabelEncoder()\n",
    "\n",
    "X = df.iloc[:, 1:-1].values\n",
    "y = df.iloc[:, -1].values\n",
    "\n",
    "X = scaler.fit_transform(X)\n",
    "y = encoder.fit_transform(y)"
   ],
   "metadata": {
    "collapsed": false,
    "ExecuteTime": {
     "end_time": "2023-12-11T10:38:13.342624601Z",
     "start_time": "2023-12-11T10:38:13.337272735Z"
    }
   },
   "id": "92ffb6a81944320c"
  },
  {
   "cell_type": "code",
   "execution_count": 8,
   "outputs": [],
   "source": [
    "train_x, test_x, train_y, test_y = train_test_split(X, y, train_size=0.8)"
   ],
   "metadata": {
    "collapsed": false,
    "ExecuteTime": {
     "end_time": "2023-12-11T10:38:13.998567500Z",
     "start_time": "2023-12-11T10:38:13.992226542Z"
    }
   },
   "id": "10babefe7876066a"
  },
  {
   "cell_type": "code",
   "execution_count": 9,
   "outputs": [
    {
     "data": {
      "text/plain": "(120, 4)"
     },
     "execution_count": 9,
     "metadata": {},
     "output_type": "execute_result"
    }
   ],
   "source": [
    "train_x.shape"
   ],
   "metadata": {
    "collapsed": false,
    "ExecuteTime": {
     "end_time": "2023-12-11T10:38:14.472526109Z",
     "start_time": "2023-12-11T10:38:14.468559673Z"
    }
   },
   "id": "9163b94079dea4ec"
  },
  {
   "cell_type": "markdown",
   "source": [
    "# Train LVQ"
   ],
   "metadata": {
    "collapsed": false
   },
   "id": "cb741341525ce0f"
  },
  {
   "cell_type": "code",
   "execution_count": 33,
   "outputs": [],
   "source": [
    "epochs = 100\n",
    "lvq = LVQ(epochs=epochs, prototypes_per_class=3, learning_rate=0.1)\n",
    "_, stats = lvq.fit(train_x, train_y, return_stats=True)"
   ],
   "metadata": {
    "collapsed": false,
    "ExecuteTime": {
     "end_time": "2023-12-11T11:00:47.781999546Z",
     "start_time": "2023-12-11T11:00:44.921976279Z"
    }
   },
   "id": "e3ba72ade57eee6"
  },
  {
   "cell_type": "code",
   "execution_count": 34,
   "outputs": [
    {
     "data": {
      "text/plain": "<Figure size 1500x500 with 2 Axes>",
      "image/png": "[encoded data removed]"
     },
     "metadata": {},
     "output_type": "display_data"
    }
   ],
   "source": [
    "fig, ax = plt.subplots(1, 2, figsize=(15, 5))\n",
    "ax[0].plot(range(epochs), stats['loss'])\n",
    "ax[0].set_xlabel('Epochs')\n",
    "ax[0].set_ylabel('Loss')\n",
    "ax[0].set_title('Loss')\n",
    "ax[1].plot(range(epochs), stats['accuracy'])\n",
    "ax[1].set_xlabel('Epochs')\n",
    "ax[1].set_ylabel('Accuracy')\n",
    "ax[1].set_title('Accuracy')\n",
    "plt.show()"
   ],
   "metadata": {
    "collapsed": false,
    "ExecuteTime": {
     "end_time": "2023-12-11T11:00:47.912066233Z",
     "start_time": "2023-12-11T11:00:47.823650883Z"
    }
   },
   "id": "880f5be7b368b3d3"
  },
  {
   "cell_type": "code",
   "execution_count": 35,
   "outputs": [
    {
     "name": "stdout",
     "output_type": "stream",
     "text": [
      "Accuracy: 0.8\n"
     ]
    }
   ],
   "source": [
    "pred_y = lvq.predict(test_x)\n",
    "\n",
    "from sklearn.metrics import accuracy_score\n",
    "accuracy = accuracy_score(test_y, pred_y)\n",
    "\n",
    "print(f'Accuracy: {accuracy}')"
   ],
   "metadata": {
    "collapsed": false,
    "ExecuteTime": {
     "end_time": "2023-12-11T11:00:47.982613069Z",
     "start_time": "2023-12-11T11:00:47.913362389Z"
    }
   },
   "id": "c7843081d806a1a7"
  },
  {
   "cell_type": "code",
   "execution_count": null,
   "outputs": [],
   "source": [],
   "metadata": {
    "collapsed": false
   },
   "id": "1fe9c47eef022a4e"
  }
 ],
 "metadata": {
  "kernelspec": {
   "display_name": "Python 3",
   "language": "python",
   "name": "python3"
  },
  "language_info": {
   "codemirror_mode": {
    "name": "ipython",
    "version": 2
   },
   "file_extension": ".py",
   "mimetype": "text/x-python",
   "name": "python",
   "nbconvert_exporter": "python",
   "pygments_lexer": "ipython2",
   "version": "2.7.6"
  }
 },
 "nbformat": 4,
 "nbformat_minor": 5
}
