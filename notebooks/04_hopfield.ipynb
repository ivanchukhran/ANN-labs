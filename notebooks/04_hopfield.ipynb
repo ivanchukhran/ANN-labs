{
 "cells": [
  {
   "cell_type": "code",
   "execution_count": 2,
   "id": "initial_id",
   "metadata": {
    "collapsed": true,
    "ExecuteTime": {
     "end_time": "2023-12-10T17:11:12.342915534Z",
     "start_time": "2023-12-10T17:11:11.687344187Z"
    }
   },
   "outputs": [],
   "source": [
    "import numpy as np\n",
    "import pandas as pd\n",
    "import matplotlib.pyplot as plt"
   ]
  },
  {
   "cell_type": "markdown",
   "source": [
    "# Hopfield Network\n",
    "\n",
    "Hopfield Network is a type of recurrent neural network that can be used to store information and retrieve it later. It is a single layer network where the output of the network is fed back to the input layer. The network is trained by adjusting the weights between the neurons so that the desired pattern is obtained at the output. The network is trained in a supervised manner. The network is trained by using Hebbian learning rule. The weights are adjusted by using the following equation:\n",
    "\n",
    "$$w_{ij} = \\sum_{p=1}^{P} x_{i}^{p} x_{j}^{p}$$\n",
    "\n",
    "where $w_{ij}$ is the weight between the $i^{th}$ and $j^{th}$ neuron, $x_{i}^{p}$ is the $i^{th}$ neuron of the $p^{th}$ pattern and $P$ is the number of patterns. The weights are adjusted until the network converges. The network is trained to store a set of patterns. The network is then tested by giving a noisy version of the stored pattern as input. The network is able to retrieve the original pattern from the noisy input. \n"
   ],
   "metadata": {
    "collapsed": false
   },
   "id": "d64c85254bdaf9d5"
  },
  {
   "cell_type": "code",
   "execution_count": 206,
   "outputs": [],
   "source": [
    "class HopfieldNet:\n",
    "    def __init__(self, in_features: int):\n",
    "        self.in_features = in_features\n",
    "        self.weights = np.zeros((in_features, in_features))\n",
    "        \n",
    "    def train(self, x: np.ndarray):\n",
    "        self.weights += np.dot(x.reshape(-1, 1), x.reshape(1, -1))\n",
    "        np.fill_diagonal(self.weights, 0)\n",
    "        \n",
    "    def predict(self, x: np.ndarray, steps: int = 100):\n",
    "        output = None\n",
    "        energy_list = []\n",
    "        for _ in range(steps):\n",
    "            x = x.reshape(1, -1)\n",
    "            output = np.sign(np.dot(x, self.weights))\n",
    "            energy_list.append(self.energy(output))\n",
    "            if np.array_equal(output, x):\n",
    "                break\n",
    "            x = output\n",
    "        return output, energy_list\n",
    "    \n",
    "    def energy(self, x: np.ndarray):\n",
    "        first = np.dot(x, self.weights)\n",
    "        second = np.dot(first, x.T)\n",
    "        return -0.5 * second\n",
    "            "
   ],
   "metadata": {
    "collapsed": false,
    "ExecuteTime": {
     "end_time": "2023-12-10T19:55:00.086311449Z",
     "start_time": "2023-12-10T19:55:00.082547731Z"
    }
   },
   "id": "720aaf653f723c41"
  },
  {
   "cell_type": "code",
   "execution_count": 207,
   "outputs": [],
   "source": [
    "def plot_images(images, title):\n",
    "    fig, axs = plt.subplots(1, len(images), figsize=(15, 15))\n",
    "    for i, image in enumerate(images):\n",
    "        axs[i].imshow(image, cmap='gray')\n",
    "        axs[i].set_title(title[i])\n",
    "        axs[i].axis('off')\n",
    "    plt.show()"
   ],
   "metadata": {
    "collapsed": false,
    "ExecuteTime": {
     "end_time": "2023-12-10T19:55:00.658003349Z",
     "start_time": "2023-12-10T19:55:00.652377621Z"
    }
   },
   "id": "66723fde1a252c80"
  },
  {
   "cell_type": "code",
   "execution_count": 208,
   "outputs": [],
   "source": [
    "def add_noise(x, noise_level):\n",
    "    x = x.copy()\n",
    "    for i in range(noise_level):\n",
    "        x[np.random.randint(0, 5), np.random.randint(0, 5)] = -1\n",
    "    return x"
   ],
   "metadata": {
    "collapsed": false,
    "ExecuteTime": {
     "end_time": "2023-12-10T19:55:01.080930552Z",
     "start_time": "2023-12-10T19:55:01.077693932Z"
    }
   },
   "id": "cda1af9efa178365"
  },
  {
   "cell_type": "markdown",
   "source": [
    "# Training the Network\n",
    "\n",
    "The network is trained on the mnist dataset. The dataset contains 60000 images of handwritten digits. The images are of size 28x28.\n",
    "\n",
    "\n",
    "## First we load the dataset and plot some images from the dataset."
   ],
   "metadata": {
    "collapsed": false
   },
   "id": "8c489bde369c2dbd"
  },
  {
   "cell_type": "code",
   "execution_count": 209,
   "outputs": [],
   "source": [
    "def load_dataset(path: str, labels: str, image_size: int = 28, num_images: int = 10000):\n",
    "    with open(path, 'rb') as f:\n",
    "        f.read(16)\n",
    "        buffer = f.read(image_size * image_size * num_images)\n",
    "        data = np.frombuffer(buffer, dtype=np.uint8).astype(np.float32)\n",
    "        data = data.reshape(num_images, image_size, image_size)\n",
    "        data = data / 255\n",
    "    with open(labels, 'rb') as f:\n",
    "        f.read(8)\n",
    "        buffer = f.read(num_images)\n",
    "        labels = np.frombuffer(buffer, dtype=np.uint8).astype(np.int64)\n",
    "    return data, labels"
   ],
   "metadata": {
    "collapsed": false,
    "ExecuteTime": {
     "end_time": "2023-12-10T19:55:01.896795635Z",
     "start_time": "2023-12-10T19:55:01.889395992Z"
    }
   },
   "id": "a3fea71f2c420f71"
  },
  {
   "cell_type": "code",
   "execution_count": 210,
   "outputs": [],
   "source": [
    "data_path = '../data/mnist/train-images.idx3-ubyte'\n",
    "labels_path = '../data/mnist/train-labels.idx1-ubyte'\n",
    "train_data, train_labels = load_dataset(data_path, labels_path, num_images=60000)\n"
   ],
   "metadata": {
    "collapsed": false,
    "ExecuteTime": {
     "end_time": "2023-12-10T19:55:02.663538659Z",
     "start_time": "2023-12-10T19:55:02.580516599Z"
    }
   },
   "id": "ce38a182fc286328"
  },
  {
   "cell_type": "code",
   "execution_count": 211,
   "outputs": [
    {
     "data": {
      "text/plain": "(60000, 28, 28)"
     },
     "execution_count": 211,
     "metadata": {},
     "output_type": "execute_result"
    }
   ],
   "source": [
    "train_data.shape"
   ],
   "metadata": {
    "collapsed": false,
    "ExecuteTime": {
     "end_time": "2023-12-10T19:55:03.168193471Z",
     "start_time": "2023-12-10T19:55:03.160440393Z"
    }
   },
   "id": "96116615d75c3350"
  },
  {
   "cell_type": "code",
   "execution_count": 212,
   "outputs": [],
   "source": [
    "def plot_single_image(image):\n",
    "    plt.imshow(image, cmap='gray')\n",
    "    plt.axis('off')\n",
    "    plt.show()\n",
    "    \n",
    "def grid_plot(images, titles, rows, cols):\n",
    "    fig, axs = plt.subplots(rows, cols, figsize=(10, 10))\n",
    "    if rows == 1 or cols == 1:\n",
    "        for i in range(rows * cols):\n",
    "            axs[i].imshow(images[i], cmap='gray')\n",
    "            axs[i].set_title(titles[i])\n",
    "            axs[i].axis('off')\n",
    "    else:\n",
    "        for i in range(rows):\n",
    "            for j in range(cols):\n",
    "                axs[i, j].imshow(images[i * rows + j], cmap='gray')\n",
    "                axs[i, j].set_title(titles[i * rows + j])\n",
    "                axs[i, j].axis('off')\n",
    "    plt.show()"
   ],
   "metadata": {
    "collapsed": false,
    "ExecuteTime": {
     "end_time": "2023-12-10T19:55:03.569296710Z",
     "start_time": "2023-12-10T19:55:03.565391850Z"
    }
   },
   "id": "353f50818540715f"
  },
  {
   "cell_type": "code",
   "execution_count": 213,
   "outputs": [
    {
     "data": {
      "text/plain": "<Figure size 1000x1000 with 25 Axes>",
      "image/png": "[encoded data removed]"
     },
     "metadata": {},
     "output_type": "display_data"
    }
   ],
   "source": [
    "grid_plot(train_data[:25], train_labels[:25], 5, 5)"
   ],
   "metadata": {
    "collapsed": false,
    "ExecuteTime": {
     "end_time": "2023-12-10T19:55:04.967952873Z",
     "start_time": "2023-12-10T19:55:04.283828291Z"
    }
   },
   "id": "d5cda90ef77b3803"
  },
  {
   "cell_type": "markdown",
   "source": [
    "## Training the Network\n",
    "\n",
    "Then we train the network on the dataset."
   ],
   "metadata": {
    "collapsed": false
   },
   "id": "4787ef4d04d4743"
  },
  {
   "cell_type": "code",
   "execution_count": 216,
   "outputs": [
    {
     "data": {
      "text/plain": "<Figure size 1000x1000 with 4 Axes>",
      "image/png": "[encoded data removed]"
     },
     "metadata": {},
     "output_type": "display_data"
    }
   ],
   "source": [
    "network = HopfieldNet(28 * 28)\n",
    "sample = train_data[2]\n",
    "network.train(sample)\n",
    "output, energies = network.predict(sample)\n",
    "noised_sample = sample + np.random.normal(0, 0.1, sample.shape)\n",
    "noised_output, energies = network.predict(noised_sample)\n",
    "\n",
    "grid_plot([sample, output.reshape(28, 28), noised_sample, noised_output.reshape(28, 28), network.weights], ['Original', 'Output', 'Noised sample', 'Noised output', 'Weights'], 1, 4)"
   ],
   "metadata": {
    "collapsed": false,
    "ExecuteTime": {
     "end_time": "2023-12-10T19:55:56.444152508Z",
     "start_time": "2023-12-10T19:55:56.302785977Z"
    }
   },
   "id": "da9c60bac9fc430"
  },
  {
   "cell_type": "markdown",
   "source": [
    "Conclusions\n",
    "\n",
    "The network produces the good output when the input is a noisy version of the original image or a similar to the source one. \n",
    "However, this type of networks is not used in practice because of the following reasons:\n",
    "1. The network is not able to store a large number of patterns. The network is able to store only 0.138% of the total number of patterns.\n",
    "2. The network is not able to store patterns that are similar to each other. The network is able to store only one pattern from a set of similar patterns.\n",
    "\n",
    "Thus, the network is not such general purpose as other neural networks."
   ],
   "metadata": {
    "collapsed": false
   },
   "id": "b0d9c6b3ee68de99"
  },
  {
   "cell_type": "code",
   "execution_count": null,
   "outputs": [],
   "source": [],
   "metadata": {
    "collapsed": false
   },
   "id": "285f60e941af745"
  }
 ],
 "metadata": {
  "kernelspec": {
   "display_name": "Python 3",
   "language": "python",
   "name": "python3"
  },
  "language_info": {
   "codemirror_mode": {
    "name": "ipython",
    "version": 2
   },
   "file_extension": ".py",
   "mimetype": "text/x-python",
   "name": "python",
   "nbconvert_exporter": "python",
   "pygments_lexer": "ipython2",
   "version": "2.7.6"
  }
 },
 "nbformat": 4,
 "nbformat_minor": 5
}
